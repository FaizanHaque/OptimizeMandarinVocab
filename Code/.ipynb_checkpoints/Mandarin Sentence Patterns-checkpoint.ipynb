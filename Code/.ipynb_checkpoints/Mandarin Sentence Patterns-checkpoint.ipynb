{
 "cells": [
  {
   "cell_type": "markdown",
   "metadata": {},
   "source": [
    "# Setup Notebook"
   ]
  },
  {
   "cell_type": "markdown",
   "metadata": {},
   "source": [
    "## Install libraries\n",
    "#Only needed for Google Collab"
   ]
  },
  {
   "cell_type": "markdown",
   "metadata": {},
   "source": [
    "## Import Libraries"
   ]
  },
  {
   "cell_type": "code",
   "execution_count": 6,
   "metadata": {
    "ExecuteTime": {
     "end_time": "2019-06-26T22:28:04.315509Z",
     "start_time": "2019-06-26T22:27:49.932298Z"
    },
    "collapsed": false
   },
   "outputs": [],
   "source": [
    "import pandas as pd\n",
    "import matplotlib.pyplot as plt\n",
    "#import seaborn as sns\n",
    "import numpy as np\n",
    "#import seaborn as sns\n",
    "import matplotlib as mpl\n",
    "import warnings; warnings.filterwarnings(action='once')\n",
    "#sns.set(style=\"darkgrid\")\n",
    "#from celluloid import Camera\n",
    "from matplotlib.animation import FuncAnimation\n",
    "from matplotlib import patches\n",
    "from scipy.spatial import ConvexHull\n",
    "#from matplotlib.axes._axes import _log as matplotlib_axes_logger\n",
    "#matplotlib_axes_logger.setLevel('ERROR')\n",
    "from matplotlib import animation\n",
    "#import dask.dataframe as dd\n",
    "from gensim.models import Word2Vec\n",
    "import jieba\n",
    "from xpinyin import Pinyin\n",
    "from snownlp import SnowNLP"
   ]
  },
  {
   "cell_type": "markdown",
   "metadata": {},
   "source": [
    "\n",
    "# Data Access"
   ]
  },
  {
   "cell_type": "markdown",
   "metadata": {},
   "source": [
    "## Create Filenames\n"
   ]
  },
  {
   "cell_type": "code",
   "execution_count": null,
   "metadata": {
    "ExecuteTime": {
     "start_time": "2019-06-16T08:45:34.131Z"
    },
    "collapsed": false,
    "scrolled": true
   },
   "outputs": [],
   "source": [
    "lwc =pd.read_table(r'./parsed_messages.txt')"
   ]
  },
  {
   "cell_type": "code",
   "execution_count": 12,
   "metadata": {
    "ExecuteTime": {
     "end_time": "2019-06-26T22:39:29.436302Z",
     "start_time": "2019-06-26T22:39:29.329227Z"
    },
    "collapsed": false
   },
   "outputs": [],
   "source": [
    "fbk1=  open(r'C:\\Users\\Faizan\\Documents\\GitHub\\OptimizeMandarinVocab\\Data\\XunLu.txt','r' ,encoding=\"utf8\")\n",
    "Book1 = fbk1.read();\n",
    "fbk1.close() "
   ]
  },
  {
   "cell_type": "code",
   "execution_count": 2,
   "metadata": {
    "ExecuteTime": {
     "end_time": "2019-06-24T18:21:05.424348Z",
     "start_time": "2019-06-24T18:21:05.420344Z"
    },
    "collapsed": true
   },
   "outputs": [],
   "source": [
    "MandoStr = \"越来越  越累越困\"\n"
   ]
  },
  {
   "cell_type": "code",
   "execution_count": null,
   "metadata": {
    "ExecuteTime": {
     "start_time": "2019-06-25T01:24:42.641Z"
    },
    "collapsed": false
   },
   "outputs": [],
   "source": [
    "with open('./parsed_messages.txt') as f:\n",
    "    for = f.read()"
   ]
  },
  {
   "cell_type": "code",
   "execution_count": null,
   "metadata": {
    "collapsed": true
   },
   "outputs": [],
   "source": [
    "with open(sys.argv[2],'w') as outfile\n",
    "    with open(sys.argv[1]) as infile:\n",
    "        for line in infile:\n",
    "            outfile.write(line)"
   ]
  },
  {
   "cell_type": "code",
   "execution_count": null,
   "metadata": {
    "collapsed": true
   },
   "outputs": [],
   "source": [
    "with open('./parsed_messages.txt', 'r', buffering =100000) as f:\n",
    "    for line in f:\n",
    "        print line"
   ]
  },
  {
   "cell_type": "code",
   "execution_count": 15,
   "metadata": {
    "ExecuteTime": {
     "end_time": "2019-06-24T19:10:57.044911Z",
     "start_time": "2019-06-24T19:10:56.825755Z"
    },
    "collapsed": false
   },
   "outputs": [
    {
     "ename": "NameError",
     "evalue": "name 'process' is not defined",
     "output_type": "error",
     "traceback": [
      "\u001b[0;31m---------------------------------------------------------------------------\u001b[0m",
      "\u001b[0;31mNameError\u001b[0m                                 Traceback (most recent call last)",
      "\u001b[0;32m<ipython-input-15-0a01fc9e556c>\u001b[0m in \u001b[0;36m<module>\u001b[0;34m()\u001b[0m\n\u001b[1;32m      2\u001b[0m \u001b[1;33m\u001b[0m\u001b[0m\n\u001b[1;32m      3\u001b[0m     \u001b[1;32mfor\u001b[0m \u001b[0mline\u001b[0m \u001b[1;32min\u001b[0m \u001b[0mf\u001b[0m\u001b[1;33m:\u001b[0m\u001b[1;33m\u001b[0m\u001b[0m\n\u001b[0;32m----> 4\u001b[0;31m         \u001b[0mprocess\u001b[0m\u001b[1;33m(\u001b[0m\u001b[0mline\u001b[0m\u001b[1;33m)\u001b[0m\u001b[1;33m\u001b[0m\u001b[0m\n\u001b[0m",
      "\u001b[0;31mNameError\u001b[0m: name 'process' is not defined"
     ]
    }
   ],
   "source": [
    "with open('parsed_messages.txt',encoding=\"utf8\") as f:\n",
    "    for line in f:\n",
    "        process(line)"
   ]
  },
  {
   "cell_type": "code",
   "execution_count": null,
   "metadata": {
    "collapsed": true
   },
   "outputs": [],
   "source": []
  },
  {
   "cell_type": "code",
   "execution_count": null,
   "metadata": {
    "ExecuteTime": {
     "start_time": "2019-06-25T02:14:11.104Z"
    },
    "collapsed": false
   },
   "outputs": [
    {
     "name": "stderr",
     "output_type": "stream",
     "text": [
      "C:\\Users\\Faizan\\Anaconda3\\lib\\site-packages\\ipykernel\\__main__.py:1: ResourceWarning: unclosed file <_io.TextIOWrapper name='parsed_messages.txt' mode='r' encoding='utf8'>\n",
      "  if __name__ == '__main__':\n"
     ]
    }
   ],
   "source": [
    "f=  open('parsed_messages.txt','r' ,encoding=\"utf8\")\n",
    "Mandotext= f.read();\n",
    "f.close()"
   ]
  },
  {
   "cell_type": "code",
   "execution_count": 12,
   "metadata": {
    "ExecuteTime": {
     "end_time": "2019-06-24T18:56:01.358246Z",
     "start_time": "2019-06-24T18:56:01.045025Z"
    },
    "collapsed": false
   },
   "outputs": [
    {
     "name": "stdout",
     "output_type": "stream",
     "text": [
      "<built-in method readline of _io.TextIOWrapper object at 0x000000BB831587E0>\n",
      "<built-in method readline of _io.TextIOWrapper object at 0x000000BB831587E0>\n",
      "<built-in method readline of _io.TextIOWrapper object at 0x000000BB831587E0>\n",
      "<built-in method readline of _io.TextIOWrapper object at 0x000000BB831587E0>\n",
      "<built-in method readline of _io.TextIOWrapper object at 0x000000BB831587E0>\n",
      "<built-in method readline of _io.TextIOWrapper object at 0x000000BB831587E0>\n",
      "<built-in method readline of _io.TextIOWrapper object at 0x000000BB831587E0>\n",
      "<built-in method readline of _io.TextIOWrapper object at 0x000000BB831587E0>\n",
      "<built-in method readline of _io.TextIOWrapper object at 0x000000BB831587E0>\n",
      "<built-in method readline of _io.TextIOWrapper object at 0x000000BB831587E0>\n",
      "<built-in method readline of _io.TextIOWrapper object at 0x000000BB831587E0>\n",
      "<built-in method readline of _io.TextIOWrapper object at 0x000000BB831587E0>\n",
      "<built-in method readline of _io.TextIOWrapper object at 0x000000BB831587E0>\n",
      "<built-in method readline of _io.TextIOWrapper object at 0x000000BB831587E0>\n",
      "<built-in method readline of _io.TextIOWrapper object at 0x000000BB831587E0>\n",
      "<built-in method readline of _io.TextIOWrapper object at 0x000000BB831587E0>\n",
      "<built-in method readline of _io.TextIOWrapper object at 0x000000BB831587E0>\n",
      "<built-in method readline of _io.TextIOWrapper object at 0x000000BB831587E0>\n",
      "<built-in method readline of _io.TextIOWrapper object at 0x000000BB831587E0>\n",
      "<built-in method readline of _io.TextIOWrapper object at 0x000000BB831587E0>\n",
      "<built-in method readline of _io.TextIOWrapper object at 0x000000BB831587E0>\n",
      "<built-in method readline of _io.TextIOWrapper object at 0x000000BB831587E0>\n",
      "<built-in method readline of _io.TextIOWrapper object at 0x000000BB831587E0>\n",
      "<built-in method readline of _io.TextIOWrapper object at 0x000000BB831587E0>\n",
      "<built-in method readline of _io.TextIOWrapper object at 0x000000BB831587E0>\n",
      "<built-in method readline of _io.TextIOWrapper object at 0x000000BB831587E0>\n",
      "<built-in method readline of _io.TextIOWrapper object at 0x000000BB831587E0>\n",
      "<built-in method readline of _io.TextIOWrapper object at 0x000000BB831587E0>\n",
      "<built-in method readline of _io.TextIOWrapper object at 0x000000BB831587E0>\n",
      "<built-in method readline of _io.TextIOWrapper object at 0x000000BB831587E0>\n",
      "<built-in method readline of _io.TextIOWrapper object at 0x000000BB831587E0>\n",
      "<built-in method readline of _io.TextIOWrapper object at 0x000000BB831587E0>\n",
      "<built-in method readline of _io.TextIOWrapper object at 0x000000BB831587E0>\n",
      "<built-in method readline of _io.TextIOWrapper object at 0x000000BB831587E0>\n",
      "<built-in method readline of _io.TextIOWrapper object at 0x000000BB831587E0>\n",
      "<built-in method readline of _io.TextIOWrapper object at 0x000000BB831587E0>\n",
      "<built-in method readline of _io.TextIOWrapper object at 0x000000BB831587E0>\n",
      "<built-in method readline of _io.TextIOWrapper object at 0x000000BB831587E0>\n",
      "<built-in method readline of _io.TextIOWrapper object at 0x000000BB831587E0>\n",
      "<built-in method readline of _io.TextIOWrapper object at 0x000000BB831587E0>\n",
      "<built-in method readline of _io.TextIOWrapper object at 0x000000BB831587E0>\n",
      "<built-in method readline of _io.TextIOWrapper object at 0x000000BB831587E0>\n",
      "<built-in method readline of _io.TextIOWrapper object at 0x000000BB831587E0>\n",
      "<built-in method readline of _io.TextIOWrapper object at 0x000000BB831587E0>\n",
      "<built-in method readline of _io.TextIOWrapper object at 0x000000BB831587E0>\n",
      "<built-in method readline of _io.TextIOWrapper object at 0x000000BB831587E0>\n",
      "<built-in method readline of _io.TextIOWrapper object at 0x000000BB831587E0>\n",
      "<built-in method readline of _io.TextIOWrapper object at 0x000000BB831587E0>\n",
      "<built-in method readline of _io.TextIOWrapper object at 0x000000BB831587E0>\n",
      "<built-in method readline of _io.TextIOWrapper object at 0x000000BB831587E0>\n"
     ]
    },
    {
     "ename": "NameError",
     "evalue": "name 'raw_input' is not defined",
     "output_type": "error",
     "traceback": [
      "\u001b[0;31m---------------------------------------------------------------------------\u001b[0m",
      "\u001b[0;31mNameError\u001b[0m                                 Traceback (most recent call last)",
      "\u001b[0;32m<ipython-input-12-7ab1298cb212>\u001b[0m in \u001b[0;36m<module>\u001b[0;34m()\u001b[0m\n\u001b[1;32m      3\u001b[0m     \u001b[1;32mfor\u001b[0m \u001b[0mlines\u001b[0m \u001b[1;32min\u001b[0m \u001b[0mrange\u001b[0m\u001b[1;33m(\u001b[0m\u001b[1;36m50\u001b[0m\u001b[1;33m)\u001b[0m\u001b[1;33m:\u001b[0m\u001b[1;33m\u001b[0m\u001b[0m\n\u001b[1;32m      4\u001b[0m         \u001b[0mprint\u001b[0m\u001b[1;33m(\u001b[0m\u001b[0minput_file\u001b[0m\u001b[1;33m.\u001b[0m\u001b[0mreadline\u001b[0m\u001b[1;33m)\u001b[0m\u001b[1;33m\u001b[0m\u001b[0m\n\u001b[0;32m----> 5\u001b[0;31m     \u001b[0muser_input\u001b[0m \u001b[1;33m=\u001b[0m \u001b[0mraw_input\u001b[0m\u001b[1;33m(\u001b[0m\u001b[1;34m'Type STOP to quit, otherise press the Enter/Return key'\u001b[0m\u001b[1;33m)\u001b[0m\u001b[1;33m\u001b[0m\u001b[0m\n\u001b[0m\u001b[1;32m      6\u001b[0m     \u001b[1;32mif\u001b[0m \u001b[0muser_input\u001b[0m \u001b[1;33m==\u001b[0m\u001b[1;34m'STOP'\u001b[0m\u001b[1;33m:\u001b[0m\u001b[1;33m\u001b[0m\u001b[0m\n\u001b[1;32m      7\u001b[0m          \u001b[1;32mbreak\u001b[0m\u001b[1;33m\u001b[0m\u001b[0m\n",
      "\u001b[0;31mNameError\u001b[0m: name 'raw_input' is not defined"
     ]
    }
   ],
   "source": [
    "input_file = open('parsed_messages.txt','r')\n",
    "while(1):\n",
    "    for lines in range(50):\n",
    "        print(input_file.readline)\n",
    "    user_input = raw_input('Type STOP to quit, otherise press the Enter/Return key')\n",
    "    if user_input =='STOP':\n",
    "         break"
   ]
  },
  {
   "cell_type": "markdown",
   "metadata": {},
   "source": [
    "## Load Data"
   ]
  },
  {
   "cell_type": "markdown",
   "metadata": {},
   "source": [
    "# Exploratory Data Analysis"
   ]
  },
  {
   "cell_type": "code",
   "execution_count": 15,
   "metadata": {
    "ExecuteTime": {
     "end_time": "2019-06-26T22:48:11.378456Z",
     "start_time": "2019-06-26T22:48:11.338427Z"
    },
    "collapsed": false
   },
   "outputs": [
    {
     "ename": "TypeError",
     "evalue": "can only join an iterable",
     "output_type": "error",
     "traceback": [
      "\u001b[0;31m---------------------------------------------------------------------------\u001b[0m",
      "\u001b[0;31mTypeError\u001b[0m                                 Traceback (most recent call last)",
      "\u001b[0;32m<ipython-input-15-e6d585ce4497>\u001b[0m in \u001b[0;36m<module>\u001b[0;34m()\u001b[0m\n\u001b[1;32m      2\u001b[0m \u001b[0ms\u001b[0m\u001b[1;33m.\u001b[0m\u001b[0msentences\u001b[0m\u001b[1;33m\u001b[0m\u001b[0m\n\u001b[1;32m      3\u001b[0m \u001b[1;31m#https://python-forum.io/Thread-Removing-punctuation-from-strings-in-lists\u001b[0m\u001b[1;33m\u001b[0m\u001b[1;33m\u001b[0m\u001b[0m\n\u001b[0;32m----> 4\u001b[0;31m \u001b[0minput_text\u001b[0m \u001b[1;33m=\u001b[0m \u001b[1;34m''\u001b[0m\u001b[1;33m.\u001b[0m\u001b[0mjoin\u001b[0m\u001b[1;33m(\u001b[0m\u001b[0ms\u001b[0m\u001b[1;33m)\u001b[0m\u001b[1;33m.\u001b[0m\u001b[0mlower\u001b[0m\u001b[1;33m(\u001b[0m\u001b[1;33m)\u001b[0m\u001b[1;33m\u001b[0m\u001b[0m\n\u001b[0m\u001b[1;32m      5\u001b[0m \u001b[0minput_text\u001b[0m \u001b[1;33m=\u001b[0m \u001b[0mre\u001b[0m\u001b[1;33m.\u001b[0m\u001b[0msub\u001b[0m\u001b[1;33m(\u001b[0m\u001b[1;34mr'[,.:@#?!&$…”]'\u001b[0m\u001b[1;33m,\u001b[0m \u001b[1;34m' '\u001b[0m\u001b[1;33m,\u001b[0m \u001b[0minput_text\u001b[0m\u001b[1;33m)\u001b[0m\u001b[1;33m\u001b[0m\u001b[0m\n",
      "\u001b[0;31mTypeError\u001b[0m: can only join an iterable"
     ]
    }
   ],
   "source": [
    "s = SnowNLP(Book1)\n",
    "s.sentences\n",
    "#https://python-forum.io/Thread-Removing-punctuation-from-strings-in-lists\n",
    "#input_text = ''.join(s).lower()\n",
    "#input_text = re.sub(r'[,.:@#?!&$…”]', ' ', input_text)"
   ]
  },
  {
   "cell_type": "markdown",
   "metadata": {},
   "source": [
    "# Data Visualiztion"
   ]
  },
  {
   "cell_type": "code",
   "execution_count": 5,
   "metadata": {
    "ExecuteTime": {
     "end_time": "2019-06-26T22:27:16.853812Z",
     "start_time": "2019-06-26T22:26:27.928946Z"
    },
    "collapsed": false
   },
   "outputs": [
    {
     "name": "stderr",
     "output_type": "stream",
     "text": [
      "Building prefix dict from the default dictionary ...\n"
     ]
    },
    {
     "name": "stdout",
     "output_type": "stream",
     "text": [
      "我想说更好的中文，但很难，因为我是波兰人\n"
     ]
    },
    {
     "name": "stderr",
     "output_type": "stream",
     "text": [
      "Dumping model to file cache C:\\Users\\Faizan\\AppData\\Local\\Temp\\jieba.cache\n",
      "Loading model cost 2.681 seconds.\n",
      "Prefix dict has been built succesfully.\n"
     ]
    },
    {
     "name": "stdout",
     "output_type": "stream",
     "text": [
      "我 想 说 更好 的 中文 ， 但 很 难 ， 因为 我 是 波兰人\n"
     ]
    },
    {
     "ename": "TypeError",
     "evalue": "get_pinyin() got an unexpected keyword argument 'show_tone_marks'",
     "output_type": "error",
     "traceback": [
      "\u001b[0;31m---------------------------------------------------------------------------\u001b[0m",
      "\u001b[0;31mTypeError\u001b[0m                                 Traceback (most recent call last)",
      "\u001b[0;32m<ipython-input-5-606145c139ef>\u001b[0m in \u001b[0;36m<module>\u001b[0;34m()\u001b[0m\n\u001b[1;32m      9\u001b[0m \u001b[1;33m\u001b[0m\u001b[0m\n\u001b[1;32m     10\u001b[0m \u001b[0mp\u001b[0m \u001b[1;33m=\u001b[0m \u001b[0mPinyin\u001b[0m\u001b[1;33m(\u001b[0m\u001b[1;33m)\u001b[0m\u001b[1;33m\u001b[0m\u001b[0m\n\u001b[0;32m---> 11\u001b[0;31m \u001b[0mpinyined\u001b[0m \u001b[1;33m=\u001b[0m \u001b[0mp\u001b[0m\u001b[1;33m.\u001b[0m\u001b[0mget_pinyin\u001b[0m\u001b[1;33m(\u001b[0m\u001b[0moutput\u001b[0m\u001b[1;33m,\u001b[0m \u001b[0msplitter\u001b[0m\u001b[1;33m=\u001b[0m\u001b[1;34m''\u001b[0m\u001b[1;33m,\u001b[0m \u001b[0mshow_tone_marks\u001b[0m\u001b[1;33m=\u001b[0m\u001b[1;32mTrue\u001b[0m\u001b[1;33m)\u001b[0m\u001b[1;33m\u001b[0m\u001b[0m\n\u001b[0m\u001b[1;32m     12\u001b[0m \u001b[0mprint\u001b[0m\u001b[1;33m(\u001b[0m\u001b[0mpinyined\u001b[0m\u001b[1;33m)\u001b[0m\u001b[1;33m\u001b[0m\u001b[0m\n",
      "\u001b[0;31mTypeError\u001b[0m: get_pinyin() got an unexpected keyword argument 'show_tone_marks'"
     ]
    }
   ],
   "source": [
    "\n",
    "\n",
    "sentence = \"我想说更好的中文，但很难，因为我是波兰人\"\n",
    "print(sentence)\n",
    "\n",
    "segments = jieba.cut(sentence)\n",
    "output = \" \".join(segments)\n",
    "print(output)\n",
    "\n",
    "p = Pinyin()\n",
    "pinyined = p.get_pinyin(output, splitter='', show_tone_marks=True)\n",
    "print(pinyined)\n",
    "\n"
   ]
  },
  {
   "cell_type": "code",
   "execution_count": 9,
   "metadata": {
    "ExecuteTime": {
     "end_time": "2019-06-26T22:29:36.074895Z",
     "start_time": "2019-06-26T22:29:36.062889Z"
    },
    "collapsed": false
   },
   "outputs": [
    {
     "data": {
      "text/plain": [
       "[('今天', 't'), ('是', 'v'), ('周六', 't'), ('。', 'w')]"
      ]
     },
     "execution_count": 9,
     "metadata": {},
     "output_type": "execute_result"
    }
   ],
   "source": [
    "# https://towardsdatascience.com/beginners-guide-to-sentiment-analysis-for-simplified-chinese-using-snownlp-ce88a8407efb\n",
    "\n",
    "s = SnowNLP(u'今天是周六。')\n",
    "s.words\n",
    "list(s.tags)"
   ]
  }
 ],
 "metadata": {
  "anaconda-cloud": {},
  "kernelspec": {
   "display_name": "Python [default]",
   "language": "python",
   "name": "python3"
  },
  "language_info": {
   "codemirror_mode": {
    "name": "ipython",
    "version": 3
   },
   "file_extension": ".py",
   "mimetype": "text/x-python",
   "name": "python",
   "nbconvert_exporter": "python",
   "pygments_lexer": "ipython3",
   "version": "3.5.2"
  },
  "toc": {
   "base_numbering": 1,
   "nav_menu": {},
   "number_sections": true,
   "sideBar": true,
   "skip_h1_title": false,
   "title_cell": "Table of Contents",
   "title_sidebar": "Contents",
   "toc_cell": false,
   "toc_position": {},
   "toc_section_display": true,
   "toc_window_display": true
  },
  "varInspector": {
   "cols": {
    "lenName": 16,
    "lenType": 16,
    "lenVar": 40
   },
   "kernels_config": {
    "python": {
     "delete_cmd_postfix": "",
     "delete_cmd_prefix": "del ",
     "library": "var_list.py",
     "varRefreshCmd": "print(var_dic_list())"
    },
    "r": {
     "delete_cmd_postfix": ") ",
     "delete_cmd_prefix": "rm(",
     "library": "var_list.r",
     "varRefreshCmd": "cat(var_dic_list()) "
    }
   },
   "position": {
    "height": "144px",
    "left": "940px",
    "right": "20px",
    "top": "0px",
    "width": "350px"
   },
   "types_to_exclude": [
    "module",
    "function",
    "builtin_function_or_method",
    "instance",
    "_Feature"
   ],
   "window_display": true
  }
 },
 "nbformat": 4,
 "nbformat_minor": 2
}
