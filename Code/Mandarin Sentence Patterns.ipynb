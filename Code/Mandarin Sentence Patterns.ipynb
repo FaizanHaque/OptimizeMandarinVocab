{
 "cells": [
  {
   "cell_type": "markdown",
   "metadata": {},
   "source": [
    "# Setup Notebook"
   ]
  },
  {
   "cell_type": "markdown",
   "metadata": {},
   "source": [
    "## Install libraries\n",
    "#Only needed for Google Collab"
   ]
  },
  {
   "cell_type": "markdown",
   "metadata": {},
   "source": [
    "## Import Libraries"
   ]
  },
  {
   "cell_type": "code",
   "execution_count": 9,
   "metadata": {
    "ExecuteTime": {
     "end_time": "2019-06-24T18:52:10.839551Z",
     "start_time": "2019-06-24T18:51:30.344443Z"
    },
    "collapsed": false
   },
   "outputs": [
    {
     "ename": "ImportError",
     "evalue": "cannot import name '_log'",
     "output_type": "error",
     "traceback": [
      "\u001b[0;31m---------------------------------------------------------------------------\u001b[0m",
      "\u001b[0;31mImportError\u001b[0m                               Traceback (most recent call last)",
      "\u001b[0;32m<ipython-input-9-83152e723dfa>\u001b[0m in \u001b[0;36m<module>\u001b[0;34m()\u001b[0m\n\u001b[1;32m     11\u001b[0m \u001b[1;32mfrom\u001b[0m \u001b[0mmatplotlib\u001b[0m \u001b[1;32mimport\u001b[0m \u001b[0mpatches\u001b[0m\u001b[1;33m\u001b[0m\u001b[0m\n\u001b[1;32m     12\u001b[0m \u001b[1;32mfrom\u001b[0m \u001b[0mscipy\u001b[0m\u001b[1;33m.\u001b[0m\u001b[0mspatial\u001b[0m \u001b[1;32mimport\u001b[0m \u001b[0mConvexHull\u001b[0m\u001b[1;33m\u001b[0m\u001b[0m\n\u001b[0;32m---> 13\u001b[0;31m \u001b[1;32mfrom\u001b[0m \u001b[0mmatplotlib\u001b[0m\u001b[1;33m.\u001b[0m\u001b[0maxes\u001b[0m\u001b[1;33m.\u001b[0m\u001b[0m_axes\u001b[0m \u001b[1;32mimport\u001b[0m \u001b[0m_log\u001b[0m \u001b[1;32mas\u001b[0m \u001b[0mmatplotlib_axes_logger\u001b[0m\u001b[1;33m\u001b[0m\u001b[0m\n\u001b[0m\u001b[1;32m     14\u001b[0m \u001b[0mmatplotlib_axes_logger\u001b[0m\u001b[1;33m.\u001b[0m\u001b[0msetLevel\u001b[0m\u001b[1;33m(\u001b[0m\u001b[1;34m'ERROR'\u001b[0m\u001b[1;33m)\u001b[0m\u001b[1;33m\u001b[0m\u001b[0m\n\u001b[1;32m     15\u001b[0m \u001b[1;32mfrom\u001b[0m \u001b[0mmatplotlib\u001b[0m \u001b[1;32mimport\u001b[0m \u001b[0manimation\u001b[0m\u001b[1;33m\u001b[0m\u001b[0m\n",
      "\u001b[0;31mImportError\u001b[0m: cannot import name '_log'"
     ]
    }
   ],
   "source": [
    "import pandas as pd\n",
    "import matplotlib.pyplot as plt\n",
    "#import seaborn as sns\n",
    "import numpy as np\n",
    "#import seaborn as sns\n",
    "import matplotlib as mpl\n",
    "import warnings; warnings.filterwarnings(action='once')\n",
    "#sns.set(style=\"darkgrid\")\n",
    "#from celluloid import Camera\n",
    "from matplotlib.animation import FuncAnimation\n",
    "from matplotlib import patches\n",
    "from scipy.spatial import ConvexHull\n",
    "from matplotlib.axes._axes import _log as matplotlib_axes_logger\n",
    "matplotlib_axes_logger.setLevel('ERROR')\n",
    "from matplotlib import animation\n",
    "import dask.dataframe as dd"
   ]
  },
  {
   "cell_type": "markdown",
   "metadata": {},
   "source": [
    "# Data Access"
   ]
  },
  {
   "cell_type": "markdown",
   "metadata": {},
   "source": [
    "## Create Filenames\n"
   ]
  },
  {
   "cell_type": "code",
   "execution_count": null,
   "metadata": {
    "ExecuteTime": {
     "start_time": "2019-06-16T08:45:34.131Z"
    },
    "collapsed": false,
    "scrolled": true
   },
   "outputs": [],
   "source": [
    "lwc =pd.read_table(r'./parsed_messages.txt')"
   ]
  },
  {
   "cell_type": "code",
   "execution_count": 2,
   "metadata": {
    "ExecuteTime": {
     "end_time": "2019-06-24T18:21:05.424348Z",
     "start_time": "2019-06-24T18:21:05.420344Z"
    },
    "collapsed": true
   },
   "outputs": [],
   "source": [
    "MandoStr = \"越来越  越累越困\"\n"
   ]
  },
  {
   "cell_type": "code",
   "execution_count": null,
   "metadata": {
    "ExecuteTime": {
     "start_time": "2019-06-25T01:24:42.641Z"
    },
    "collapsed": false
   },
   "outputs": [],
   "source": [
    "with open('./parsed_messages.txt') as f:\n",
    "    for = f.read()"
   ]
  },
  {
   "cell_type": "code",
   "execution_count": null,
   "metadata": {
    "collapsed": true
   },
   "outputs": [],
   "source": [
    "with open(sys.argv[2],'w') as outfile\n",
    "    with open(sys.argv[1]) as infile:\n",
    "        for line in infile:\n",
    "            outfile.write(line)"
   ]
  },
  {
   "cell_type": "code",
   "execution_count": null,
   "metadata": {
    "collapsed": true
   },
   "outputs": [],
   "source": [
    "with open('./parsed_messages.txt', 'r', buffering =100000) as f:\n",
    "    for line in f:\n",
    "        print line"
   ]
  },
  {
   "cell_type": "code",
   "execution_count": 15,
   "metadata": {
    "ExecuteTime": {
     "end_time": "2019-06-24T19:10:57.044911Z",
     "start_time": "2019-06-24T19:10:56.825755Z"
    },
    "collapsed": false
   },
   "outputs": [
    {
     "ename": "NameError",
     "evalue": "name 'process' is not defined",
     "output_type": "error",
     "traceback": [
      "\u001b[0;31m---------------------------------------------------------------------------\u001b[0m",
      "\u001b[0;31mNameError\u001b[0m                                 Traceback (most recent call last)",
      "\u001b[0;32m<ipython-input-15-0a01fc9e556c>\u001b[0m in \u001b[0;36m<module>\u001b[0;34m()\u001b[0m\n\u001b[1;32m      2\u001b[0m \u001b[1;33m\u001b[0m\u001b[0m\n\u001b[1;32m      3\u001b[0m     \u001b[1;32mfor\u001b[0m \u001b[0mline\u001b[0m \u001b[1;32min\u001b[0m \u001b[0mf\u001b[0m\u001b[1;33m:\u001b[0m\u001b[1;33m\u001b[0m\u001b[0m\n\u001b[0;32m----> 4\u001b[0;31m         \u001b[0mprocess\u001b[0m\u001b[1;33m(\u001b[0m\u001b[0mline\u001b[0m\u001b[1;33m)\u001b[0m\u001b[1;33m\u001b[0m\u001b[0m\n\u001b[0m",
      "\u001b[0;31mNameError\u001b[0m: name 'process' is not defined"
     ]
    }
   ],
   "source": [
    "with open('parsed_messages.txt',encoding=\"utf8\") as f:\n",
    "    for line in f:\n",
    "        process(line)"
   ]
  },
  {
   "cell_type": "code",
   "execution_count": null,
   "metadata": {
    "collapsed": true
   },
   "outputs": [],
   "source": []
  },
  {
   "cell_type": "code",
   "execution_count": null,
   "metadata": {
    "ExecuteTime": {
     "start_time": "2019-06-25T02:14:11.104Z"
    },
    "collapsed": false
   },
   "outputs": [
    {
     "name": "stderr",
     "output_type": "stream",
     "text": [
      "C:\\Users\\Faizan\\Anaconda3\\lib\\site-packages\\ipykernel\\__main__.py:1: ResourceWarning: unclosed file <_io.TextIOWrapper name='parsed_messages.txt' mode='r' encoding='utf8'>\n",
      "  if __name__ == '__main__':\n"
     ]
    }
   ],
   "source": [
    "f=  open('parsed_messages.txt','r' ,encoding=\"utf8\")\n",
    "Mandotext= f.read();\n",
    "f.close()"
   ]
  },
  {
   "cell_type": "code",
   "execution_count": 12,
   "metadata": {
    "ExecuteTime": {
     "end_time": "2019-06-24T18:56:01.358246Z",
     "start_time": "2019-06-24T18:56:01.045025Z"
    },
    "collapsed": false
   },
   "outputs": [
    {
     "name": "stdout",
     "output_type": "stream",
     "text": [
      "<built-in method readline of _io.TextIOWrapper object at 0x000000BB831587E0>\n",
      "<built-in method readline of _io.TextIOWrapper object at 0x000000BB831587E0>\n",
      "<built-in method readline of _io.TextIOWrapper object at 0x000000BB831587E0>\n",
      "<built-in method readline of _io.TextIOWrapper object at 0x000000BB831587E0>\n",
      "<built-in method readline of _io.TextIOWrapper object at 0x000000BB831587E0>\n",
      "<built-in method readline of _io.TextIOWrapper object at 0x000000BB831587E0>\n",
      "<built-in method readline of _io.TextIOWrapper object at 0x000000BB831587E0>\n",
      "<built-in method readline of _io.TextIOWrapper object at 0x000000BB831587E0>\n",
      "<built-in method readline of _io.TextIOWrapper object at 0x000000BB831587E0>\n",
      "<built-in method readline of _io.TextIOWrapper object at 0x000000BB831587E0>\n",
      "<built-in method readline of _io.TextIOWrapper object at 0x000000BB831587E0>\n",
      "<built-in method readline of _io.TextIOWrapper object at 0x000000BB831587E0>\n",
      "<built-in method readline of _io.TextIOWrapper object at 0x000000BB831587E0>\n",
      "<built-in method readline of _io.TextIOWrapper object at 0x000000BB831587E0>\n",
      "<built-in method readline of _io.TextIOWrapper object at 0x000000BB831587E0>\n",
      "<built-in method readline of _io.TextIOWrapper object at 0x000000BB831587E0>\n",
      "<built-in method readline of _io.TextIOWrapper object at 0x000000BB831587E0>\n",
      "<built-in method readline of _io.TextIOWrapper object at 0x000000BB831587E0>\n",
      "<built-in method readline of _io.TextIOWrapper object at 0x000000BB831587E0>\n",
      "<built-in method readline of _io.TextIOWrapper object at 0x000000BB831587E0>\n",
      "<built-in method readline of _io.TextIOWrapper object at 0x000000BB831587E0>\n",
      "<built-in method readline of _io.TextIOWrapper object at 0x000000BB831587E0>\n",
      "<built-in method readline of _io.TextIOWrapper object at 0x000000BB831587E0>\n",
      "<built-in method readline of _io.TextIOWrapper object at 0x000000BB831587E0>\n",
      "<built-in method readline of _io.TextIOWrapper object at 0x000000BB831587E0>\n",
      "<built-in method readline of _io.TextIOWrapper object at 0x000000BB831587E0>\n",
      "<built-in method readline of _io.TextIOWrapper object at 0x000000BB831587E0>\n",
      "<built-in method readline of _io.TextIOWrapper object at 0x000000BB831587E0>\n",
      "<built-in method readline of _io.TextIOWrapper object at 0x000000BB831587E0>\n",
      "<built-in method readline of _io.TextIOWrapper object at 0x000000BB831587E0>\n",
      "<built-in method readline of _io.TextIOWrapper object at 0x000000BB831587E0>\n",
      "<built-in method readline of _io.TextIOWrapper object at 0x000000BB831587E0>\n",
      "<built-in method readline of _io.TextIOWrapper object at 0x000000BB831587E0>\n",
      "<built-in method readline of _io.TextIOWrapper object at 0x000000BB831587E0>\n",
      "<built-in method readline of _io.TextIOWrapper object at 0x000000BB831587E0>\n",
      "<built-in method readline of _io.TextIOWrapper object at 0x000000BB831587E0>\n",
      "<built-in method readline of _io.TextIOWrapper object at 0x000000BB831587E0>\n",
      "<built-in method readline of _io.TextIOWrapper object at 0x000000BB831587E0>\n",
      "<built-in method readline of _io.TextIOWrapper object at 0x000000BB831587E0>\n",
      "<built-in method readline of _io.TextIOWrapper object at 0x000000BB831587E0>\n",
      "<built-in method readline of _io.TextIOWrapper object at 0x000000BB831587E0>\n",
      "<built-in method readline of _io.TextIOWrapper object at 0x000000BB831587E0>\n",
      "<built-in method readline of _io.TextIOWrapper object at 0x000000BB831587E0>\n",
      "<built-in method readline of _io.TextIOWrapper object at 0x000000BB831587E0>\n",
      "<built-in method readline of _io.TextIOWrapper object at 0x000000BB831587E0>\n",
      "<built-in method readline of _io.TextIOWrapper object at 0x000000BB831587E0>\n",
      "<built-in method readline of _io.TextIOWrapper object at 0x000000BB831587E0>\n",
      "<built-in method readline of _io.TextIOWrapper object at 0x000000BB831587E0>\n",
      "<built-in method readline of _io.TextIOWrapper object at 0x000000BB831587E0>\n",
      "<built-in method readline of _io.TextIOWrapper object at 0x000000BB831587E0>\n"
     ]
    },
    {
     "ename": "NameError",
     "evalue": "name 'raw_input' is not defined",
     "output_type": "error",
     "traceback": [
      "\u001b[0;31m---------------------------------------------------------------------------\u001b[0m",
      "\u001b[0;31mNameError\u001b[0m                                 Traceback (most recent call last)",
      "\u001b[0;32m<ipython-input-12-7ab1298cb212>\u001b[0m in \u001b[0;36m<module>\u001b[0;34m()\u001b[0m\n\u001b[1;32m      3\u001b[0m     \u001b[1;32mfor\u001b[0m \u001b[0mlines\u001b[0m \u001b[1;32min\u001b[0m \u001b[0mrange\u001b[0m\u001b[1;33m(\u001b[0m\u001b[1;36m50\u001b[0m\u001b[1;33m)\u001b[0m\u001b[1;33m:\u001b[0m\u001b[1;33m\u001b[0m\u001b[0m\n\u001b[1;32m      4\u001b[0m         \u001b[0mprint\u001b[0m\u001b[1;33m(\u001b[0m\u001b[0minput_file\u001b[0m\u001b[1;33m.\u001b[0m\u001b[0mreadline\u001b[0m\u001b[1;33m)\u001b[0m\u001b[1;33m\u001b[0m\u001b[0m\n\u001b[0;32m----> 5\u001b[0;31m     \u001b[0muser_input\u001b[0m \u001b[1;33m=\u001b[0m \u001b[0mraw_input\u001b[0m\u001b[1;33m(\u001b[0m\u001b[1;34m'Type STOP to quit, otherise press the Enter/Return key'\u001b[0m\u001b[1;33m)\u001b[0m\u001b[1;33m\u001b[0m\u001b[0m\n\u001b[0m\u001b[1;32m      6\u001b[0m     \u001b[1;32mif\u001b[0m \u001b[0muser_input\u001b[0m \u001b[1;33m==\u001b[0m\u001b[1;34m'STOP'\u001b[0m\u001b[1;33m:\u001b[0m\u001b[1;33m\u001b[0m\u001b[0m\n\u001b[1;32m      7\u001b[0m          \u001b[1;32mbreak\u001b[0m\u001b[1;33m\u001b[0m\u001b[0m\n",
      "\u001b[0;31mNameError\u001b[0m: name 'raw_input' is not defined"
     ]
    }
   ],
   "source": [
    "input_file = open('parsed_messages.txt','r')\n",
    "while(1):\n",
    "    for lines in range(50):\n",
    "        print(input_file.readline)\n",
    "    user_input = raw_input('Type STOP to quit, otherise press the Enter/Return key')\n",
    "    if user_input =='STOP':\n",
    "         break"
   ]
  },
  {
   "cell_type": "markdown",
   "metadata": {},
   "source": [
    "## Load Data"
   ]
  },
  {
   "cell_type": "markdown",
   "metadata": {},
   "source": [
    "# Exploratory Data Analysis"
   ]
  },
  {
   "cell_type": "code",
   "execution_count": null,
   "metadata": {
    "collapsed": true
   },
   "outputs": [],
   "source": []
  },
  {
   "cell_type": "markdown",
   "metadata": {},
   "source": [
    "# Data Visualiztion"
   ]
  }
 ],
 "metadata": {
  "anaconda-cloud": {},
  "kernelspec": {
   "display_name": "Python [default]",
   "language": "python",
   "name": "python3"
  },
  "language_info": {
   "codemirror_mode": {
    "name": "ipython",
    "version": 3
   },
   "file_extension": ".py",
   "mimetype": "text/x-python",
   "name": "python",
   "nbconvert_exporter": "python",
   "pygments_lexer": "ipython3",
   "version": "3.5.2"
  },
  "toc": {
   "base_numbering": 1,
   "nav_menu": {},
   "number_sections": true,
   "sideBar": true,
   "skip_h1_title": false,
   "title_cell": "Table of Contents",
   "title_sidebar": "Contents",
   "toc_cell": false,
   "toc_position": {},
   "toc_section_display": true,
   "toc_window_display": true
  },
  "varInspector": {
   "cols": {
    "lenName": 16,
    "lenType": 16,
    "lenVar": 40
   },
   "kernels_config": {
    "python": {
     "delete_cmd_postfix": "",
     "delete_cmd_prefix": "del ",
     "library": "var_list.py",
     "varRefreshCmd": "print(var_dic_list())"
    },
    "r": {
     "delete_cmd_postfix": ") ",
     "delete_cmd_prefix": "rm(",
     "library": "var_list.r",
     "varRefreshCmd": "cat(var_dic_list()) "
    }
   },
   "position": {
    "height": "144px",
    "left": "924px",
    "right": "20px",
    "top": "122px",
    "width": "350px"
   },
   "types_to_exclude": [
    "module",
    "function",
    "builtin_function_or_method",
    "instance",
    "_Feature"
   ],
   "window_display": true
  }
 },
 "nbformat": 4,
 "nbformat_minor": 2
}
